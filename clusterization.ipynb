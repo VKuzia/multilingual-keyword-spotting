{
 "cells": [
  {
   "cell_type": "code",
   "execution_count": 1,
   "id": "2f352240",
   "metadata": {},
   "outputs": [],
   "source": [
    "import pandas as pd\n",
    "import numpy as np\n",
    "import matplotlib.pyplot as plt\n",
    "import torch\n",
    "from tqdm import tqdm, trange\n",
    "import os\n",
    "import matplotlib.cm as cm\n",
    "import seaborn as sns"
   ]
  },
  {
   "cell_type": "code",
   "execution_count": 2,
   "id": "60207331",
   "metadata": {},
   "outputs": [],
   "source": [
    "CSV_PATH = './dataset/mswc21/csv/TRAIN.csv'\n",
    "FEATURES_PATH = './dataset/mswc21/features/all_train_embeddings_1024'\n",
    "# FEATURES_PATH = './dataset/mswc21/features/all_train_embeddings_1024'"
   ]
  },
  {
   "cell_type": "code",
   "execution_count": 3,
   "id": "920094f2",
   "metadata": {},
   "outputs": [
    {
     "data": {
      "text/html": [
       "<div>\n",
       "<style scoped>\n",
       "    .dataframe tbody tr th:only-of-type {\n",
       "        vertical-align: middle;\n",
       "    }\n",
       "\n",
       "    .dataframe tbody tr th {\n",
       "        vertical-align: top;\n",
       "    }\n",
       "\n",
       "    .dataframe thead th {\n",
       "        text-align: right;\n",
       "    }\n",
       "</style>\n",
       "<table border=\"1\" class=\"dataframe\">\n",
       "  <thead>\n",
       "    <tr style=\"text-align: right;\">\n",
       "      <th></th>\n",
       "      <th>mode</th>\n",
       "      <th>label</th>\n",
       "      <th>path</th>\n",
       "      <th>language</th>\n",
       "      <th>gender</th>\n",
       "    </tr>\n",
       "  </thead>\n",
       "  <tbody>\n",
       "    <tr>\n",
       "      <th>0</th>\n",
       "      <td>train</td>\n",
       "      <td>этого</td>\n",
       "      <td>ru/clips/этого/common_voice_ru_18956507.pt</td>\n",
       "      <td>ru</td>\n",
       "      <td>m</td>\n",
       "    </tr>\n",
       "    <tr>\n",
       "      <th>1</th>\n",
       "      <td>train</td>\n",
       "      <td>резолюции</td>\n",
       "      <td>ru/clips/резолюции/common_voice_ru_19157550.pt</td>\n",
       "      <td>ru</td>\n",
       "      <td>m</td>\n",
       "    </tr>\n",
       "    <tr>\n",
       "      <th>2</th>\n",
       "      <td>train</td>\n",
       "      <td>менее</td>\n",
       "      <td>ru/clips/менее/common_voice_ru_19288549.pt</td>\n",
       "      <td>ru</td>\n",
       "      <td>m</td>\n",
       "    </tr>\n",
       "    <tr>\n",
       "      <th>3</th>\n",
       "      <td>train</td>\n",
       "      <td>kunnen</td>\n",
       "      <td>nl/clips/kunnen/common_voice_nl_22221094.pt</td>\n",
       "      <td>nl</td>\n",
       "      <td>m</td>\n",
       "    </tr>\n",
       "    <tr>\n",
       "      <th>5</th>\n",
       "      <td>train</td>\n",
       "      <td>слово</td>\n",
       "      <td>ru/clips/слово/common_voice_ru_18963836.pt</td>\n",
       "      <td>ru</td>\n",
       "      <td>m</td>\n",
       "    </tr>\n",
       "  </tbody>\n",
       "</table>\n",
       "</div>"
      ],
      "text/plain": [
       "    mode      label                                            path language  \\\n",
       "0  train      этого      ru/clips/этого/common_voice_ru_18956507.pt       ru   \n",
       "1  train  резолюции  ru/clips/резолюции/common_voice_ru_19157550.pt       ru   \n",
       "2  train      менее      ru/clips/менее/common_voice_ru_19288549.pt       ru   \n",
       "3  train     kunnen     nl/clips/kunnen/common_voice_nl_22221094.pt       nl   \n",
       "5  train      слово      ru/clips/слово/common_voice_ru_18963836.pt       ru   \n",
       "\n",
       "  gender  \n",
       "0      m  \n",
       "1      m  \n",
       "2      m  \n",
       "3      m  \n",
       "5      m  "
      ]
     },
     "execution_count": 3,
     "metadata": {},
     "output_type": "execute_result"
    }
   ],
   "source": [
    "df = pd.read_csv(CSV_PATH, delimiter=',').drop(columns=['Unnamed: 0'])\n",
    "df = df[df['mode']=='train']\n",
    "# df = df[df['mode'] == 'val']\n",
    "# df = df[df['language'] == 'tt']\n",
    "df['path'] = df['path'].apply(lambda x: x.replace('.wav', '.pt'))\n",
    "df.head()"
   ]
  },
  {
   "cell_type": "code",
   "execution_count": 4,
   "id": "fdbfbddb",
   "metadata": {
    "scrolled": false
   },
   "outputs": [
    {
     "name": "stderr",
     "output_type": "stream",
     "text": [
      "100%|█████████████████████████████████| 549858/549858 [03:28<00:00, 2641.97it/s]\n"
     ]
    }
   ],
   "source": [
    "def get_vector(matrix):\n",
    "    return matrix.flatten()\n",
    "\n",
    "def get_vectors(paths):\n",
    "    vectors = []\n",
    "    for path in tqdm(paths):\n",
    "        matrix = torch.load(os.path.join(FEATURES_PATH, path), map_location=torch.device('cpu'))\n",
    "        vectors.append(matrix)\n",
    "#         vectors.append(get_vector(matrix))\n",
    "    return np.stack(vectors)\n",
    "    \n",
    "vectors = get_vectors(df['path'].values)"
   ]
  },
  {
   "cell_type": "code",
   "execution_count": 10,
   "id": "8617cdfb",
   "metadata": {},
   "outputs": [],
   "source": [
    "del initial_vectors"
   ]
  },
  {
   "cell_type": "code",
   "execution_count": 5,
   "id": "427b8aec",
   "metadata": {},
   "outputs": [],
   "source": [
    "from sklearn.cluster import KMeans\n",
    "import numpy as np\n",
    "N = 100\n",
    "kmeans = KMeans(n_clusters=N, random_state=29)"
   ]
  },
  {
   "cell_type": "code",
   "execution_count": 6,
   "id": "ac048d96",
   "metadata": {},
   "outputs": [
    {
     "name": "stdout",
     "output_type": "stream",
     "text": [
      "CPU times: user 2h 48min 58s, sys: 3h 10min 32s, total: 5h 59min 30s\n",
      "Wall time: 42min 30s\n"
     ]
    },
    {
     "data": {
      "text/plain": [
       "KMeans(n_clusters=100, random_state=29)"
      ]
     },
     "execution_count": 6,
     "metadata": {},
     "output_type": "execute_result"
    }
   ],
   "source": [
    "%%time\n",
    "kmeans.fit(vectors)"
   ]
  },
  {
   "cell_type": "code",
   "execution_count": 7,
   "id": "ba81e262",
   "metadata": {},
   "outputs": [],
   "source": [
    "from sklearn.metrics import pairwise_distances_argmin_min\n",
    "\n",
    "\n",
    "def generate_points(kmeans, vectors, exp_no):\n",
    "    closest, _ = pairwise_distances_argmin_min(kmeans.cluster_centers_, vectors)\n",
    "    randoms = []\n",
    "    for i in trange(len(kmeans.cluster_centers_)):\n",
    "        cluster_points = []\n",
    "        for j, label in enumerate(kmeans.labels_):\n",
    "            if label == i:\n",
    "                cluster_points.append(j)\n",
    "        \n",
    "        randoms.append(np.random.choice(cluster_points, size=exp_no, replace=True))\n",
    "    return closest, randoms"
   ]
  },
  {
   "cell_type": "code",
   "execution_count": null,
   "id": "1c5bdc38",
   "metadata": {},
   "outputs": [
    {
     "name": "stderr",
     "output_type": "stream",
     "text": [
      " 86%|████████████████████████████████████      | 86/100 [01:07<00:10,  1.29it/s]"
     ]
    }
   ],
   "source": [
    "closest, randoms = generate_points(kmeans, vectors, 10)"
   ]
  },
  {
   "cell_type": "code",
   "execution_count": null,
   "id": "da3e94c1",
   "metadata": {},
   "outputs": [],
   "source": [
    "def get_trains(df, closest, randoms):\n",
    "    dfs = []\n",
    "    for i in trange(len(randoms[0])):\n",
    "        indices = list(closest) + [x[i] for x in randoms]\n",
    "        dfs.append(df.iloc[indices, :])\n",
    "    return dfs"
   ]
  },
  {
   "cell_type": "code",
   "execution_count": null,
   "id": "70cf0a37",
   "metadata": {
    "scrolled": false
   },
   "outputs": [],
   "source": [
    "trains = get_trains(df, closest, randoms)"
   ]
  },
  {
   "cell_type": "code",
   "execution_count": 79,
   "id": "9fe82de3",
   "metadata": {},
   "outputs": [
    {
     "name": "stdout",
     "output_type": "stream",
     "text": [
      "100\n",
      "[501054 192241 155347 419361 540224 357041 396672 257284 152062 147448\n",
      " 374738 298687 155657 361345 127074 321197 233836 413263  89985 273980\n",
      " 195825 279788  20171 267481 197803 203753 188438  13262 106569 222173\n",
      " 521303 359387 223776 222952 385420 371067  77657 315678 459905 466691\n",
      " 333143 315957  57494 415540 538787 389978 376253 525069 117936 398183\n",
      " 465542 230995 105463 117983 304551   1060  97254 544824 491445 469310\n",
      " 372788 299655 212684 274463 523839 173853 253457 549140 197230 339805\n",
      " 142264 106354 446478 162899  48461 356121 510200  83498 186260  80124\n",
      " 309486 150244 222737 312178 452795 175426 388045 477607 435482 522334\n",
      " 188772 535813 412568 532101  93392  95439 354401  29960 453350 138799]\n"
     ]
    }
   ],
   "source": [
    "print(len(closest))\n",
    "print(closest)"
   ]
  },
  {
   "cell_type": "code",
   "execution_count": 82,
   "id": "ab9eece8",
   "metadata": {},
   "outputs": [
    {
     "name": "stdout",
     "output_type": "stream",
     "text": [
      "         mode      label                                            path  \\\n",
      "0       train      этого      ru/clips/этого/common_voice_ru_18956507.pt   \n",
      "1       train  резолюции  ru/clips/резолюции/common_voice_ru_19157550.pt   \n",
      "2       train      менее      ru/clips/менее/common_voice_ru_19288549.pt   \n",
      "3       train     kunnen     nl/clips/kunnen/common_voice_nl_22221094.pt   \n",
      "5       train      слово      ru/clips/слово/common_voice_ru_18963836.pt   \n",
      "...       ...        ...                                             ...   \n",
      "688517  train      aveva      it/clips/aveva/common_voice_it_19162642.pt   \n",
      "688518  train       duen       eu/clips/duen/common_voice_eu_18688125.pt   \n",
      "688519  train      ginen      eu/clips/ginen/common_voice_eu_18834236.pt   \n",
      "688522  train      tutto      it/clips/tutto/common_voice_it_20272884.pt   \n",
      "688523  train     икенче     tt/clips/икенче/common_voice_tt_17826470.pt   \n",
      "\n",
      "       language gender  \n",
      "0            ru      m  \n",
      "1            ru      m  \n",
      "2            ru      m  \n",
      "3            nl      m  \n",
      "5            ru      m  \n",
      "...         ...    ...  \n",
      "688517       it      m  \n",
      "688518       eu      n  \n",
      "688519       eu      n  \n",
      "688522       it      f  \n",
      "688523       tt      m  \n",
      "\n",
      "[549858 rows x 5 columns]\n",
      "         mode           label  \\\n",
      "627361  train            modo   \n",
      "240566  train        horretan   \n",
      "194204  train         deziras   \n",
      "524931  train           azken   \n",
      "676483  train    безопасность   \n",
      "...       ...             ...   \n",
      "119275  train          сейчас   \n",
      "443892  train        являются   \n",
      "37540   train         поэтому   \n",
      "567577  train           китте   \n",
      "173508  train  сотрудничество   \n",
      "\n",
      "                                                     path language gender  \n",
      "627361          it/clips/modo/common_voice_it_17437896.pt       it      m  \n",
      "240566      eu/clips/horretan/common_voice_eu_18795172.pt       eu      m  \n",
      "194204       eo/clips/deziras/common_voice_eo_17975067.pt       eo      n  \n",
      "524931         eu/clips/azken/common_voice_eu_18324105.pt       eu      m  \n",
      "676483  ru/clips/безопасность/common_voice_ru_19854555.pt       ru      m  \n",
      "...                                                   ...      ...    ...  \n",
      "119275        ru/clips/сейчас/common_voice_ru_18976826.pt       ru      m  \n",
      "443892      ru/clips/являются/common_voice_ru_18914465.pt       ru      m  \n",
      "37540        ru/clips/поэтому/common_voice_ru_18936663.pt       ru      m  \n",
      "567577         tt/clips/китте/common_voice_tt_17658134.pt       tt      f  \n",
      "173508  ru/clips/сотрудничество/common_voice_ru_191849...       ru      m  \n",
      "\n",
      "[100 rows x 5 columns]\n"
     ]
    }
   ],
   "source": [
    "\n",
    "print(df)# display(trains[0])\n",
    "print(df.iloc[closest, :])"
   ]
  },
  {
   "cell_type": "code",
   "execution_count": null,
   "id": "0457f4d1",
   "metadata": {},
   "outputs": [],
   "source": [
    "import os\n",
    "\n",
    "path = './dataset/mswc21/experiments/kmeans_all_train_1024'\n",
    "os.makedirs(path, exist_ok=True)\n",
    "for i, df_to_save in enumerate(trains):\n",
    "    df_to_save.to_csv(os.path.join(path, f'{i}.csv'))"
   ]
  },
  {
   "cell_type": "code",
   "execution_count": 59,
   "id": "2086c08a",
   "metadata": {},
   "outputs": [
    {
     "name": "stderr",
     "output_type": "stream",
     "text": [
      "100%|█████████████████████████████████████████| 10/10 [00:00<00:00, 2831.12it/s]\n"
     ]
    },
    {
     "data": {
      "text/html": [
       "<div>\n",
       "<style scoped>\n",
       "    .dataframe tbody tr th:only-of-type {\n",
       "        vertical-align: middle;\n",
       "    }\n",
       "\n",
       "    .dataframe tbody tr th {\n",
       "        vertical-align: top;\n",
       "    }\n",
       "\n",
       "    .dataframe thead th {\n",
       "        text-align: right;\n",
       "    }\n",
       "</style>\n",
       "<table border=\"1\" class=\"dataframe\">\n",
       "  <thead>\n",
       "    <tr style=\"text-align: right;\">\n",
       "      <th></th>\n",
       "      <th>mode</th>\n",
       "      <th>label</th>\n",
       "      <th>path</th>\n",
       "      <th>language</th>\n",
       "      <th>gender</th>\n",
       "    </tr>\n",
       "  </thead>\n",
       "  <tbody>\n",
       "    <tr>\n",
       "      <th>167873</th>\n",
       "      <td>train</td>\n",
       "      <td>homens</td>\n",
       "      <td>pt/clips/homens/common_voice_pt_20470720.pt</td>\n",
       "      <td>pt</td>\n",
       "      <td>m</td>\n",
       "    </tr>\n",
       "    <tr>\n",
       "      <th>330940</th>\n",
       "      <td>train</td>\n",
       "      <td>drogę</td>\n",
       "      <td>pl/clips/drogę/common_voice_pl_20884723.pt</td>\n",
       "      <td>pl</td>\n",
       "      <td>m</td>\n",
       "    </tr>\n",
       "    <tr>\n",
       "      <th>94790</th>\n",
       "      <td>train</td>\n",
       "      <td>организации</td>\n",
       "      <td>ru/clips/организации/common_voice_ru_20716284.pt</td>\n",
       "      <td>ru</td>\n",
       "      <td>m</td>\n",
       "    </tr>\n",
       "    <tr>\n",
       "      <th>455578</th>\n",
       "      <td>train</td>\n",
       "      <td>essa</td>\n",
       "      <td>it/clips/essa/common_voice_it_19996981.pt</td>\n",
       "      <td>it</td>\n",
       "      <td>n</td>\n",
       "    </tr>\n",
       "    <tr>\n",
       "      <th>379246</th>\n",
       "      <td>train</td>\n",
       "      <td>principale</td>\n",
       "      <td>it/clips/principale/common_voice_it_18845764.pt</td>\n",
       "      <td>it</td>\n",
       "      <td>m</td>\n",
       "    </tr>\n",
       "    <tr>\n",
       "      <th>...</th>\n",
       "      <td>...</td>\n",
       "      <td>...</td>\n",
       "      <td>...</td>\n",
       "      <td>...</td>\n",
       "      <td>...</td>\n",
       "    </tr>\n",
       "    <tr>\n",
       "      <th>487712</th>\n",
       "      <td>train</td>\n",
       "      <td>konas</td>\n",
       "      <td>eo/clips/konas/common_voice_eo_17900367.pt</td>\n",
       "      <td>eo</td>\n",
       "      <td>m</td>\n",
       "    </tr>\n",
       "    <tr>\n",
       "      <th>95854</th>\n",
       "      <td>train</td>\n",
       "      <td>договора</td>\n",
       "      <td>ru/clips/договора/common_voice_ru_19116667.pt</td>\n",
       "      <td>ru</td>\n",
       "      <td>m</td>\n",
       "    </tr>\n",
       "    <tr>\n",
       "      <th>143465</th>\n",
       "      <td>train</td>\n",
       "      <td>развитие</td>\n",
       "      <td>ru/clips/развитие/common_voice_ru_19372750.pt</td>\n",
       "      <td>ru</td>\n",
       "      <td>m</td>\n",
       "    </tr>\n",
       "    <tr>\n",
       "      <th>422171</th>\n",
       "      <td>train</td>\n",
       "      <td>наши</td>\n",
       "      <td>ru/clips/наши/common_voice_ru_18970903.pt</td>\n",
       "      <td>ru</td>\n",
       "      <td>m</td>\n",
       "    </tr>\n",
       "    <tr>\n",
       "      <th>646892</th>\n",
       "      <td>train</td>\n",
       "      <td>parece</td>\n",
       "      <td>pt/clips/parece/common_voice_pt_20682176.pt</td>\n",
       "      <td>pt</td>\n",
       "      <td>n</td>\n",
       "    </tr>\n",
       "  </tbody>\n",
       "</table>\n",
       "<p>100 rows × 5 columns</p>\n",
       "</div>"
      ],
      "text/plain": [
       "         mode        label                                              path  \\\n",
       "167873  train       homens       pt/clips/homens/common_voice_pt_20470720.pt   \n",
       "330940  train        drogę        pl/clips/drogę/common_voice_pl_20884723.pt   \n",
       "94790   train  организации  ru/clips/организации/common_voice_ru_20716284.pt   \n",
       "455578  train         essa         it/clips/essa/common_voice_it_19996981.pt   \n",
       "379246  train   principale   it/clips/principale/common_voice_it_18845764.pt   \n",
       "...       ...          ...                                               ...   \n",
       "487712  train        konas        eo/clips/konas/common_voice_eo_17900367.pt   \n",
       "95854   train     договора     ru/clips/договора/common_voice_ru_19116667.pt   \n",
       "143465  train     развитие     ru/clips/развитие/common_voice_ru_19372750.pt   \n",
       "422171  train         наши         ru/clips/наши/common_voice_ru_18970903.pt   \n",
       "646892  train       parece       pt/clips/parece/common_voice_pt_20682176.pt   \n",
       "\n",
       "       language gender  \n",
       "167873       pt      m  \n",
       "330940       pl      m  \n",
       "94790        ru      m  \n",
       "455578       it      n  \n",
       "379246       it      m  \n",
       "...         ...    ...  \n",
       "487712       eo      m  \n",
       "95854        ru      m  \n",
       "143465       ru      m  \n",
       "422171       ru      m  \n",
       "646892       pt      n  \n",
       "\n",
       "[100 rows x 5 columns]"
      ]
     },
     "metadata": {},
     "output_type": "display_data"
    },
    {
     "data": {
      "text/html": [
       "<div>\n",
       "<style scoped>\n",
       "    .dataframe tbody tr th:only-of-type {\n",
       "        vertical-align: middle;\n",
       "    }\n",
       "\n",
       "    .dataframe tbody tr th {\n",
       "        vertical-align: top;\n",
       "    }\n",
       "\n",
       "    .dataframe thead th {\n",
       "        text-align: right;\n",
       "    }\n",
       "</style>\n",
       "<table border=\"1\" class=\"dataframe\">\n",
       "  <thead>\n",
       "    <tr style=\"text-align: right;\">\n",
       "      <th></th>\n",
       "      <th>mode</th>\n",
       "      <th>label</th>\n",
       "      <th>path</th>\n",
       "      <th>language</th>\n",
       "      <th>gender</th>\n",
       "    </tr>\n",
       "  </thead>\n",
       "  <tbody>\n",
       "    <tr>\n",
       "      <th>167873</th>\n",
       "      <td>train</td>\n",
       "      <td>homens</td>\n",
       "      <td>pt/clips/homens/common_voice_pt_20470720.pt</td>\n",
       "      <td>pt</td>\n",
       "      <td>m</td>\n",
       "    </tr>\n",
       "    <tr>\n",
       "      <th>330940</th>\n",
       "      <td>train</td>\n",
       "      <td>drogę</td>\n",
       "      <td>pl/clips/drogę/common_voice_pl_20884723.pt</td>\n",
       "      <td>pl</td>\n",
       "      <td>m</td>\n",
       "    </tr>\n",
       "    <tr>\n",
       "      <th>94790</th>\n",
       "      <td>train</td>\n",
       "      <td>организации</td>\n",
       "      <td>ru/clips/организации/common_voice_ru_20716284.pt</td>\n",
       "      <td>ru</td>\n",
       "      <td>m</td>\n",
       "    </tr>\n",
       "    <tr>\n",
       "      <th>455578</th>\n",
       "      <td>train</td>\n",
       "      <td>essa</td>\n",
       "      <td>it/clips/essa/common_voice_it_19996981.pt</td>\n",
       "      <td>it</td>\n",
       "      <td>n</td>\n",
       "    </tr>\n",
       "    <tr>\n",
       "      <th>379246</th>\n",
       "      <td>train</td>\n",
       "      <td>principale</td>\n",
       "      <td>it/clips/principale/common_voice_it_18845764.pt</td>\n",
       "      <td>it</td>\n",
       "      <td>m</td>\n",
       "    </tr>\n",
       "    <tr>\n",
       "      <th>...</th>\n",
       "      <td>...</td>\n",
       "      <td>...</td>\n",
       "      <td>...</td>\n",
       "      <td>...</td>\n",
       "      <td>...</td>\n",
       "    </tr>\n",
       "    <tr>\n",
       "      <th>246706</th>\n",
       "      <td>train</td>\n",
       "      <td>организация</td>\n",
       "      <td>ru/clips/организация/common_voice_ru_20534869.pt</td>\n",
       "      <td>ru</td>\n",
       "      <td>m</td>\n",
       "    </tr>\n",
       "    <tr>\n",
       "      <th>563643</th>\n",
       "      <td>train</td>\n",
       "      <td>anos</td>\n",
       "      <td>pt/clips/anos/common_voice_pt_19422587.pt</td>\n",
       "      <td>pt</td>\n",
       "      <td>m</td>\n",
       "    </tr>\n",
       "    <tr>\n",
       "      <th>340099</th>\n",
       "      <td>train</td>\n",
       "      <td>więc</td>\n",
       "      <td>pl/clips/więc/common_voice_pl_20629267.pt</td>\n",
       "      <td>pl</td>\n",
       "      <td>m</td>\n",
       "    </tr>\n",
       "    <tr>\n",
       "      <th>385310</th>\n",
       "      <td>train</td>\n",
       "      <td>heeft</td>\n",
       "      <td>nl/clips/heeft/common_voice_nl_17701728.pt</td>\n",
       "      <td>nl</td>\n",
       "      <td>m</td>\n",
       "    </tr>\n",
       "    <tr>\n",
       "      <th>594878</th>\n",
       "      <td>train</td>\n",
       "      <td>oczywiście</td>\n",
       "      <td>pl/clips/oczywiście/common_voice_pl_21654584.pt</td>\n",
       "      <td>pl</td>\n",
       "      <td>m</td>\n",
       "    </tr>\n",
       "  </tbody>\n",
       "</table>\n",
       "<p>100 rows × 5 columns</p>\n",
       "</div>"
      ],
      "text/plain": [
       "         mode        label                                              path  \\\n",
       "167873  train       homens       pt/clips/homens/common_voice_pt_20470720.pt   \n",
       "330940  train        drogę        pl/clips/drogę/common_voice_pl_20884723.pt   \n",
       "94790   train  организации  ru/clips/организации/common_voice_ru_20716284.pt   \n",
       "455578  train         essa         it/clips/essa/common_voice_it_19996981.pt   \n",
       "379246  train   principale   it/clips/principale/common_voice_it_18845764.pt   \n",
       "...       ...          ...                                               ...   \n",
       "246706  train  организация  ru/clips/организация/common_voice_ru_20534869.pt   \n",
       "563643  train         anos         pt/clips/anos/common_voice_pt_19422587.pt   \n",
       "340099  train         więc         pl/clips/więc/common_voice_pl_20629267.pt   \n",
       "385310  train        heeft        nl/clips/heeft/common_voice_nl_17701728.pt   \n",
       "594878  train   oczywiście   pl/clips/oczywiście/common_voice_pl_21654584.pt   \n",
       "\n",
       "       language gender  \n",
       "167873       pt      m  \n",
       "330940       pl      m  \n",
       "94790        ru      m  \n",
       "455578       it      n  \n",
       "379246       it      m  \n",
       "...         ...    ...  \n",
       "246706       ru      m  \n",
       "563643       pt      m  \n",
       "340099       pl      m  \n",
       "385310       nl      m  \n",
       "594878       pl      m  \n",
       "\n",
       "[100 rows x 5 columns]"
      ]
     },
     "metadata": {},
     "output_type": "display_data"
    }
   ],
   "source": []
  },
  {
   "cell_type": "code",
   "execution_count": 63,
   "id": "4a0ec3ab",
   "metadata": {
    "scrolled": true
   },
   "outputs": [
    {
     "name": "stdout",
     "output_type": "stream",
     "text": [
      "159707            batez\n",
      "300664          beharko\n",
      "570613             bizi\n",
      "282133           coisas\n",
      "381441     czterdzieści\n",
      "330940            drogę\n",
      "594710           eniris\n",
      "38307          eskatzen\n",
      "455578             essa\n",
      "128201           essere\n",
      "428473            faris\n",
      "350581          gertatu\n",
      "195019            ginen\n",
      "101247            havas\n",
      "241389            havas\n",
      "598914            hemen\n",
      "542249        hizkuntza\n",
      "167873           homens\n",
      "605236          inglese\n",
      "684606            każdy\n",
      "139727         komencis\n",
      "29859            kredas\n",
      "184417             mimo\n",
      "223771           muitos\n",
      "262857             mãos\n",
      "177844             oczy\n",
      "597968       oczywiście\n",
      "322382           okazas\n",
      "316557           okazis\n",
      "588517            poste\n",
      "670915            primo\n",
      "379246       principale\n",
      "56521            questo\n",
      "235806            senza\n",
      "534179             seus\n",
      "207744           spesso\n",
      "495630            stato\n",
      "419809             tiuj\n",
      "369503            venas\n",
      "602296            venis\n",
      "671838            volas\n",
      "72026            zituen\n",
      "501491             була\n",
      "528836         господин\n",
      "250540       государств\n",
      "508246         договора\n",
      "94790       организации\n",
      "472061        отношении\n",
      "639323    правительство\n",
      "421265          следует\n",
      "Name: label, dtype: object\n",
      "50\n",
      "49\n"
     ]
    }
   ],
   "source": [
    "print(df.iloc[closest, :]['label'].sort_values())\n",
    "print(len(df.iloc[closest, :]['label']))\n",
    "print(len(df.iloc[closest, :]['label'].unique()))"
   ]
  },
  {
   "cell_type": "code",
   "execution_count": null,
   "id": "aaace6f1",
   "metadata": {},
   "outputs": [],
   "source": [
    "\n",
    "    "
   ]
  },
  {
   "cell_type": "code",
   "execution_count": 47,
   "id": "2db6fe20",
   "metadata": {},
   "outputs": [
    {
     "name": "stdout",
     "output_type": "stream",
     "text": [
      "(1024,)\n"
     ]
    }
   ],
   "source": [
    "print(initial_vectors[0].shape)"
   ]
  },
  {
   "cell_type": "code",
   "execution_count": 18,
   "id": "d36fe9ab",
   "metadata": {},
   "outputs": [],
   "source": [
    "# from sklearn.manifold import TSNE\n",
    "from sklearn.decomposition import PCA"
   ]
  },
  {
   "cell_type": "code",
   "execution_count": 96,
   "id": "fd56c647",
   "metadata": {},
   "outputs": [],
   "source": [
    "vectors_2d = PCA(n_components=2, svd_solver='full', random_state=29).fit_transform(kmeans.cluster_centers_)"
   ]
  },
  {
   "cell_type": "code",
   "execution_count": 97,
   "id": "91960187",
   "metadata": {},
   "outputs": [
    {
     "name": "stdout",
     "output_type": "stream",
     "text": [
      "[[12.534813    0.49326304]\n",
      " [-3.6342702  -5.4910727 ]]\n"
     ]
    }
   ],
   "source": [
    "print(vectors_2d[:2])"
   ]
  },
  {
   "cell_type": "code",
   "execution_count": 98,
   "id": "5d823e6d",
   "metadata": {
    "scrolled": true
   },
   "outputs": [
    {
     "name": "stdout",
     "output_type": "stream",
     "text": [
      "[-21.729357, -17.128513, -16.891571, -15.78923, -13.58545, -12.534813, -11.95319, -11.572049, -11.506225, -8.9423485]\n",
      "[-16.77165, -14.76462, -12.449821, -12.369804, -9.3887205, -9.341587, -9.168316, -9.063241, -6.8312593, -5.4426403]\n"
     ]
    }
   ],
   "source": [
    "print(sorted([-x[0] for x in vectors_2d])[:10])\n",
    "print(sorted([-x[1] for x in vectors_2d])[:10])"
   ]
  },
  {
   "cell_type": "code",
   "execution_count": 99,
   "id": "d8469b55",
   "metadata": {},
   "outputs": [
    {
     "name": "stdout",
     "output_type": "stream",
     "text": [
      "21.729357\n"
     ]
    }
   ],
   "source": [
    "print(vectors_2d.max())"
   ]
  },
  {
   "cell_type": "code",
   "execution_count": null,
   "id": "8a56b050",
   "metadata": {},
   "outputs": [],
   "source": []
  },
  {
   "cell_type": "code",
   "execution_count": 100,
   "id": "820669b3",
   "metadata": {},
   "outputs": [],
   "source": [
    "import plotly.express as px\n",
    "import plotly.offline as py\n",
    "\n",
    "\n",
    "# fig, ax = plt.subplots(1, figsize=(16, 16))\n",
    "result = pd.DataFrame({'pca_x': [x[0] for x in vectors_2d], 'pca_y': [x[1] for x in vectors_2d]})\n",
    "# result = result[result['language'] == 'ru']\n",
    "# result = result[result['pca_x'] < 3000000]\n",
    "# result = result[result['pca_y'] < 1000]\n",
    "\n",
    "fig = px.scatter(result, x='pca_x', y='pca_y')\n",
    "fig.update_layout(width=int(1000), height=int(1000))\n",
    "fig.show(renderer='browser')\n",
    "# sns.scatterplot(x='pca_x', y='pca_y', hue='label', data=result, ax=ax, s=120)\n",
    "# lim = (vectors_2d.min()-5, vectors_2d.max()+5)\n",
    "# ax.set_xlim(3000000)\n",
    "# ax.set_ylim(1000)\n",
    "# ax.set_aspect('equal')\n",
    "# ax.legend(bbox_to_anchor=(1.05, 1), loc=2, borderaxespad=0.0)\n"
   ]
  },
  {
   "cell_type": "code",
   "execution_count": 49,
   "id": "3e841e16",
   "metadata": {},
   "outputs": [],
   "source": [
    "vectors_3d = PCA(n_components=3, svd_solver='full', random_state=29).fit_transform(initial_vectors)"
   ]
  },
  {
   "cell_type": "code",
   "execution_count": 50,
   "id": "2499fa4f",
   "metadata": {},
   "outputs": [],
   "source": [
    "import plotly.express as px\n",
    "import plotly.offline as py\n",
    "\n",
    "result = pd.DataFrame({'pca_x': [x[0] for x in vectors_3d], 'pca_y': [x[1] for x in vectors_3d], 'pca_z': [x[2] for x in vectors_3d], 'language': df['language'], 'label': df['label']})\n",
    "# result = result[result['language'] == 'ru']\n",
    "# result = result[result['pca_x'] < 3000000]\n",
    "# result = result[result['pca_y'] < 1000]\n",
    "\n",
    "fig = px.scatter_3d(result, x='pca_x', y='pca_y', z='pca_z', color='label')\n",
    "fig.update_layout(width=int(1000), height=int(1000))\n",
    "fig.show(renderer='browser')"
   ]
  },
  {
   "cell_type": "code",
   "execution_count": null,
   "id": "053ad900",
   "metadata": {},
   "outputs": [],
   "source": []
  }
 ],
 "metadata": {
  "kernelspec": {
   "display_name": "Python 3 (ipykernel)",
   "language": "python",
   "name": "python3"
  },
  "language_info": {
   "codemirror_mode": {
    "name": "ipython",
    "version": 3
   },
   "file_extension": ".py",
   "mimetype": "text/x-python",
   "name": "python",
   "nbconvert_exporter": "python",
   "pygments_lexer": "ipython3",
   "version": "3.8.10"
  }
 },
 "nbformat": 4,
 "nbformat_minor": 5
}
