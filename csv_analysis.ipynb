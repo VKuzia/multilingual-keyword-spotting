{
 "cells": [
  {
   "cell_type": "code",
   "execution_count": 1,
   "id": "84d82f7a",
   "metadata": {},
   "outputs": [],
   "source": [
    "import pandas as pd\n",
    "import matplotlib.pyplot as plt\n",
    "from tqdm import tqdm\n",
    "import os"
   ]
  },
  {
   "cell_type": "code",
   "execution_count": null,
   "id": "b13bc083",
   "metadata": {},
   "outputs": [],
   "source": []
  },
  {
   "cell_type": "code",
   "execution_count": null,
   "id": "f09abcc4",
   "metadata": {},
   "outputs": [],
   "source": []
  },
  {
   "cell_type": "code",
   "execution_count": 2,
   "id": "7bb5a52b",
   "metadata": {},
   "outputs": [
    {
     "name": "stderr",
     "output_type": "stream",
     "text": [
      "100%|███████████████████████████████████████████| 21/21 [00:50<00:00,  2.38s/it]\n"
     ]
    },
    {
     "data": {
      "text/html": [
       "<div>\n",
       "<style scoped>\n",
       "    .dataframe tbody tr th:only-of-type {\n",
       "        vertical-align: middle;\n",
       "    }\n",
       "\n",
       "    .dataframe tbody tr th {\n",
       "        vertical-align: top;\n",
       "    }\n",
       "\n",
       "    .dataframe thead th {\n",
       "        text-align: right;\n",
       "    }\n",
       "</style>\n",
       "<table border=\"1\" class=\"dataframe\">\n",
       "  <thead>\n",
       "    <tr style=\"text-align: right;\">\n",
       "      <th></th>\n",
       "      <th>SET</th>\n",
       "      <th>LINK</th>\n",
       "      <th>WORD</th>\n",
       "      <th>VALID</th>\n",
       "      <th>SPEAKER</th>\n",
       "      <th>GENDER</th>\n",
       "      <th>LANGUAGE</th>\n",
       "    </tr>\n",
       "  </thead>\n",
       "  <tbody>\n",
       "    <tr>\n",
       "      <th>653404</th>\n",
       "      <td>TRAIN</td>\n",
       "      <td>очень/common_voice_ru_18956411.opus</td>\n",
       "      <td>очень</td>\n",
       "      <td>True</td>\n",
       "      <td>391f19cc56c80b71950a424f9dff058a997032adeb8603...</td>\n",
       "      <td>MALE</td>\n",
       "      <td>ru</td>\n",
       "    </tr>\n",
       "    <tr>\n",
       "      <th>493068</th>\n",
       "      <td>TRAIN</td>\n",
       "      <td>dalej/common_voice_pl_20662711.opus</td>\n",
       "      <td>dalej</td>\n",
       "      <td>True</td>\n",
       "      <td>b54662de1e19ae428bce2d653df3e52e750d4bdee46fbe...</td>\n",
       "      <td>MALE</td>\n",
       "      <td>pl</td>\n",
       "    </tr>\n",
       "    <tr>\n",
       "      <th>46454</th>\n",
       "      <td>TRAIN</td>\n",
       "      <td>infanoj/common_voice_eo_19827113.opus</td>\n",
       "      <td>infanoj</td>\n",
       "      <td>True</td>\n",
       "      <td>f9c44725569f8eeae8e1173abe5271cdc375a401111056...</td>\n",
       "      <td>MALE</td>\n",
       "      <td>eo</td>\n",
       "    </tr>\n",
       "    <tr>\n",
       "      <th>430577</th>\n",
       "      <td>TRAIN</td>\n",
       "      <td>iedereen/common_voice_nl_18113476.opus</td>\n",
       "      <td>iedereen</td>\n",
       "      <td>True</td>\n",
       "      <td>a5e6ec6cb0016841dde9e9be8a7c23b0d0cecf71deab4a...</td>\n",
       "      <td>MALE</td>\n",
       "      <td>nl</td>\n",
       "    </tr>\n",
       "    <tr>\n",
       "      <th>59942</th>\n",
       "      <td>TRAIN</td>\n",
       "      <td>urbo/common_voice_eo_20644095.opus</td>\n",
       "      <td>urbo</td>\n",
       "      <td>True</td>\n",
       "      <td>a79cbe4bac5633d9c5bc46c42709df236bc755815ce6d8...</td>\n",
       "      <td>MALE</td>\n",
       "      <td>eo</td>\n",
       "    </tr>\n",
       "  </tbody>\n",
       "</table>\n",
       "</div>"
      ],
      "text/plain": [
       "          SET                                    LINK      WORD  VALID  \\\n",
       "653404  TRAIN     очень/common_voice_ru_18956411.opus     очень   True   \n",
       "493068  TRAIN     dalej/common_voice_pl_20662711.opus     dalej   True   \n",
       "46454   TRAIN   infanoj/common_voice_eo_19827113.opus   infanoj   True   \n",
       "430577  TRAIN  iedereen/common_voice_nl_18113476.opus  iedereen   True   \n",
       "59942   TRAIN      urbo/common_voice_eo_20644095.opus      urbo   True   \n",
       "\n",
       "                                                  SPEAKER GENDER LANGUAGE  \n",
       "653404  391f19cc56c80b71950a424f9dff058a997032adeb8603...   MALE       ru  \n",
       "493068  b54662de1e19ae428bce2d653df3e52e750d4bdee46fbe...   MALE       pl  \n",
       "46454   f9c44725569f8eeae8e1173abe5271cdc375a401111056...   MALE       eo  \n",
       "430577  a5e6ec6cb0016841dde9e9be8a7c23b0d0cecf71deab4a...   MALE       nl  \n",
       "59942   a79cbe4bac5633d9c5bc46c42709df236bc755815ce6d8...   MALE       eo  "
      ]
     },
     "execution_count": 2,
     "metadata": {},
     "output_type": "execute_result"
    }
   ],
   "source": [
    "path_to_all_csvs = '/media/vkuzia/Seagate Expansion Drive/vova/csv_again'\n",
    "languages = 'ar cs el eo et eu fy id it ky lt mt nl pl pt ro ru sv tr tt uk'.split()\n",
    "stats_dict = {}\n",
    "lower_bound = 100\n",
    "upper_bound = 1000\n",
    "dfs = []\n",
    "for language in tqdm(languages):\n",
    "    data = pd.read_csv(os.path.join(path_to_all_csvs, f'{language}_splits.csv'))\n",
    "    counts = data['WORD'].value_counts()\n",
    "    labels = [(x, y) for x, y in zip(counts.index, counts.values) if y >= lower_bound and len(x) > 3]\n",
    "    if len(labels)> 300:\n",
    "        labels = labels[:300]\n",
    "    label_dfs = []\n",
    "    for label, count in labels:\n",
    "#         print(label, count)\n",
    "#         print(len(data[data['WORD'] == label]))\n",
    "        label_dfs.append(data[data['WORD'] == label].sample(n=min(upper_bound, count)))\n",
    "#     print(len(label_dfs))\n",
    "    df = pd.concat(label_dfs, ignore_index=True).sample(frac=1)\n",
    "    df['LANGUAGE'] = language\n",
    "    dfs.append(df)\n",
    "df = pd.concat(dfs, ignore_index=True).sample(frac=1)\n",
    "df.head()"
   ]
  },
  {
   "cell_type": "code",
   "execution_count": 7,
   "id": "b998d850",
   "metadata": {},
   "outputs": [
    {
     "data": {
      "text/html": [
       "<div>\n",
       "<style scoped>\n",
       "    .dataframe tbody tr th:only-of-type {\n",
       "        vertical-align: middle;\n",
       "    }\n",
       "\n",
       "    .dataframe tbody tr th {\n",
       "        vertical-align: top;\n",
       "    }\n",
       "\n",
       "    .dataframe thead th {\n",
       "        text-align: right;\n",
       "    }\n",
       "</style>\n",
       "<table border=\"1\" class=\"dataframe\">\n",
       "  <thead>\n",
       "    <tr style=\"text-align: right;\">\n",
       "      <th></th>\n",
       "      <th>Unnamed: 0</th>\n",
       "      <th>SET</th>\n",
       "      <th>LINK</th>\n",
       "      <th>WORD</th>\n",
       "      <th>VALID</th>\n",
       "      <th>SPEAKER</th>\n",
       "      <th>GENDER</th>\n",
       "      <th>LANGUAGE</th>\n",
       "    </tr>\n",
       "  </thead>\n",
       "  <tbody>\n",
       "    <tr>\n",
       "      <th>0</th>\n",
       "      <td>232423</td>\n",
       "      <td>DEV</td>\n",
       "      <td>kalau/common_voice_id_20953348.opus</td>\n",
       "      <td>kalau</td>\n",
       "      <td>True</td>\n",
       "      <td>d2193174e76e311bd96c42b44132387ce1902e8c043d11...</td>\n",
       "      <td>FEMALE</td>\n",
       "      <td>id</td>\n",
       "    </tr>\n",
       "    <tr>\n",
       "      <th>1</th>\n",
       "      <td>143173</td>\n",
       "      <td>TEST</td>\n",
       "      <td>duen/common_voice_eu_18651347.opus</td>\n",
       "      <td>duen</td>\n",
       "      <td>True</td>\n",
       "      <td>d6427a008d189264b1f97279abea69372457042479f27c...</td>\n",
       "      <td>NAN</td>\n",
       "      <td>eu</td>\n",
       "    </tr>\n",
       "    <tr>\n",
       "      <th>2</th>\n",
       "      <td>485710</td>\n",
       "      <td>TRAIN</td>\n",
       "      <td>ludzi/common_voice_pl_20774496.opus</td>\n",
       "      <td>ludzi</td>\n",
       "      <td>True</td>\n",
       "      <td>426f581b9abd5099fc26d0a12f0566dd97ab88b30d59a3...</td>\n",
       "      <td>MALE</td>\n",
       "      <td>pl</td>\n",
       "    </tr>\n",
       "    <tr>\n",
       "      <th>3</th>\n",
       "      <td>98336</td>\n",
       "      <td>TRAIN</td>\n",
       "      <td>ning/common_voice_et_18318765.opus</td>\n",
       "      <td>ning</td>\n",
       "      <td>True</td>\n",
       "      <td>e6608db93a4b661ccb2ea2b961be1290657245a3440490...</td>\n",
       "      <td>MALE</td>\n",
       "      <td>et</td>\n",
       "    </tr>\n",
       "    <tr>\n",
       "      <th>4</th>\n",
       "      <td>310624</td>\n",
       "      <td>TRAIN</td>\n",
       "      <td>stati/common_voice_it_20405176.opus</td>\n",
       "      <td>stati</td>\n",
       "      <td>True</td>\n",
       "      <td>6ac664d0b4cf9e60befb93d491fe3ce3f161d580dc8fe3...</td>\n",
       "      <td>FEMALE</td>\n",
       "      <td>it</td>\n",
       "    </tr>\n",
       "  </tbody>\n",
       "</table>\n",
       "</div>"
      ],
      "text/plain": [
       "   Unnamed: 0    SET                                 LINK   WORD  VALID  \\\n",
       "0      232423    DEV  kalau/common_voice_id_20953348.opus  kalau   True   \n",
       "1      143173   TEST   duen/common_voice_eu_18651347.opus   duen   True   \n",
       "2      485710  TRAIN  ludzi/common_voice_pl_20774496.opus  ludzi   True   \n",
       "3       98336  TRAIN   ning/common_voice_et_18318765.opus   ning   True   \n",
       "4      310624  TRAIN  stati/common_voice_it_20405176.opus  stati   True   \n",
       "\n",
       "                                             SPEAKER  GENDER LANGUAGE  \n",
       "0  d2193174e76e311bd96c42b44132387ce1902e8c043d11...  FEMALE       id  \n",
       "1  d6427a008d189264b1f97279abea69372457042479f27c...     NAN       eu  \n",
       "2  426f581b9abd5099fc26d0a12f0566dd97ab88b30d59a3...    MALE       pl  \n",
       "3  e6608db93a4b661ccb2ea2b961be1290657245a3440490...    MALE       et  \n",
       "4  6ac664d0b4cf9e60befb93d491fe3ce3f161d580dc8fe3...  FEMALE       it  "
      ]
     },
     "execution_count": 7,
     "metadata": {},
     "output_type": "execute_result"
    }
   ],
   "source": [
    "# df.to_csv('~/Desktop/coursework/new_data/csv/__ALL_g100_b1000.csv')\n",
    "# df = pd.read_csv('~/Desktop/coursework/new_data/csv/__ALL_g100_b1000.csv', delimiter=',')\n",
    "# df.head()"
   ]
  },
  {
   "cell_type": "code",
   "execution_count": 8,
   "id": "47aadec5",
   "metadata": {
    "scrolled": true
   },
   "outputs": [
    {
     "name": "stdout",
     "output_type": "stream",
     "text": [
      "790178\n",
      "630854\n",
      "787574\n",
      "MALE      504887\n",
      "NAN       156264\n",
      "FEMALE    120375\n",
      "OTHER       6048\n",
      "Name: GENDER, dtype: int64\n"
     ]
    }
   ],
   "source": [
    "print(len(df))\n",
    "print(len(df[df['SET'] == 'TRAIN']))\n",
    "print(len(df[df['VALID'] == True]))\n",
    "print(df['GENDER'].value_counts())"
   ]
  },
  {
   "cell_type": "code",
   "execution_count": 3,
   "id": "3335c073",
   "metadata": {},
   "outputs": [
    {
     "name": "stdout",
     "output_type": "stream",
     "text": [
      "Index(['mode', 'path', 'label', 'language', 'gender'], dtype='object')\n"
     ]
    },
    {
     "data": {
      "text/html": [
       "<div>\n",
       "<style scoped>\n",
       "    .dataframe tbody tr th:only-of-type {\n",
       "        vertical-align: middle;\n",
       "    }\n",
       "\n",
       "    .dataframe tbody tr th {\n",
       "        vertical-align: top;\n",
       "    }\n",
       "\n",
       "    .dataframe thead th {\n",
       "        text-align: right;\n",
       "    }\n",
       "</style>\n",
       "<table border=\"1\" class=\"dataframe\">\n",
       "  <thead>\n",
       "    <tr style=\"text-align: right;\">\n",
       "      <th></th>\n",
       "      <th>mode</th>\n",
       "      <th>label</th>\n",
       "      <th>path</th>\n",
       "      <th>language</th>\n",
       "      <th>gender</th>\n",
       "    </tr>\n",
       "  </thead>\n",
       "  <tbody>\n",
       "    <tr>\n",
       "      <th>653404</th>\n",
       "      <td>train</td>\n",
       "      <td>очень</td>\n",
       "      <td>ru/clips/очень/common_voice_ru_18956411.wav</td>\n",
       "      <td>ru</td>\n",
       "      <td>m</td>\n",
       "    </tr>\n",
       "    <tr>\n",
       "      <th>493068</th>\n",
       "      <td>train</td>\n",
       "      <td>dalej</td>\n",
       "      <td>pl/clips/dalej/common_voice_pl_20662711.wav</td>\n",
       "      <td>pl</td>\n",
       "      <td>m</td>\n",
       "    </tr>\n",
       "    <tr>\n",
       "      <th>46454</th>\n",
       "      <td>train</td>\n",
       "      <td>infanoj</td>\n",
       "      <td>eo/clips/infanoj/common_voice_eo_19827113.wav</td>\n",
       "      <td>eo</td>\n",
       "      <td>m</td>\n",
       "    </tr>\n",
       "    <tr>\n",
       "      <th>430577</th>\n",
       "      <td>train</td>\n",
       "      <td>iedereen</td>\n",
       "      <td>nl/clips/iedereen/common_voice_nl_18113476.wav</td>\n",
       "      <td>nl</td>\n",
       "      <td>m</td>\n",
       "    </tr>\n",
       "    <tr>\n",
       "      <th>59942</th>\n",
       "      <td>train</td>\n",
       "      <td>urbo</td>\n",
       "      <td>eo/clips/urbo/common_voice_eo_20644095.wav</td>\n",
       "      <td>eo</td>\n",
       "      <td>m</td>\n",
       "    </tr>\n",
       "  </tbody>\n",
       "</table>\n",
       "</div>"
      ],
      "text/plain": [
       "         mode     label                                            path  \\\n",
       "653404  train     очень     ru/clips/очень/common_voice_ru_18956411.wav   \n",
       "493068  train     dalej     pl/clips/dalej/common_voice_pl_20662711.wav   \n",
       "46454   train   infanoj   eo/clips/infanoj/common_voice_eo_19827113.wav   \n",
       "430577  train  iedereen  nl/clips/iedereen/common_voice_nl_18113476.wav   \n",
       "59942   train      urbo      eo/clips/urbo/common_voice_eo_20644095.wav   \n",
       "\n",
       "       language gender  \n",
       "653404       ru      m  \n",
       "493068       pl      m  \n",
       "46454        eo      m  \n",
       "430577       nl      m  \n",
       "59942        eo      m  "
      ]
     },
     "execution_count": 3,
     "metadata": {},
     "output_type": "execute_result"
    }
   ],
   "source": [
    "def edit_path(row):\n",
    "    row['path'] = f\"{row['language']}/clips/{row['path']}\".replace('.opus', '.wav')\n",
    "    return row\n",
    "\n",
    "df = df[['SET', 'LINK', 'WORD', 'LANGUAGE', 'GENDER']]\n",
    "df = df.rename(columns={'SET': 'mode', 'LINK': 'path', 'WORD': 'label', 'LANGUAGE': 'language', 'GENDER': 'gender'})\n",
    "df['mode'] = df['mode'].map({'TEST': 'val', 'DEV': 'val', 'TRAIN': 'train'})\n",
    "df['gender'] = df['gender'].map({'MALE': 'm', 'FEMALE': 'f', 'OTHER': 'n', 'NAN': 'n'})\n",
    "print(df.columns)\n",
    "df = df.apply(lambda x: edit_path(x), axis=1)\n",
    "df = df[['mode', 'label', 'path', 'language', 'gender']]\n",
    "df.head()"
   ]
  },
  {
   "cell_type": "code",
   "execution_count": 4,
   "id": "dd779d1d",
   "metadata": {},
   "outputs": [],
   "source": [
    "df.to_csv('~/Desktop/coursework/new_data/csv/___ALL_FORMATTED.csv')"
   ]
  },
  {
   "cell_type": "code",
   "execution_count": 6,
   "id": "6164cf8e",
   "metadata": {},
   "outputs": [
    {
     "name": "stdout",
     "output_type": "stream",
     "text": [
      "ar: 8; 1217\n"
     ]
    },
    {
     "data": {
      "image/png": "[encoded data removed]",
      "text/plain": [
       "<Figure size 720x432 with 1 Axes>"
      ]
     },
     "metadata": {
      "needs_background": "light"
     },
     "output_type": "display_data"
    },
    {
     "name": "stdout",
     "output_type": "stream",
     "text": [
      "cs: 69; 13740\n"
     ]
    },
    {
     "data": {
      "image/png": "[encoded data removed]",
      "text/plain": [
       "<Figure size 720x432 with 1 Axes>"
      ]
     },
     "metadata": {
      "needs_background": "light"
     },
     "output_type": "display_data"
    },
    {
     "name": "stdout",
     "output_type": "stream",
     "text": [
      "el: 13; 2356\n"
     ]
    },
    {
     "data": {
      "image/png": "[encoded data removed]",
      "text/plain": [
       "<Figure size 720x432 with 1 Axes>"
      ]
     },
     "metadata": {
      "needs_background": "light"
     },
     "output_type": "display_data"
    },
    {
     "name": "stdout",
     "output_type": "stream",
     "text": [
      "eo: 291; 72359\n"
     ]
    },
    {
     "data": {
      "image/png": "[encoded data removed]",
      "text/plain": [
       "<Figure size 720x432 with 1 Axes>"
      ]
     },
     "metadata": {
      "needs_background": "light"
     },
     "output_type": "display_data"
    },
    {
     "name": "stdout",
     "output_type": "stream",
     "text": [
      "et: 76; 14341\n"
     ]
    },
    {
     "data": {
      "image/png": "[encoded data removed]",
      "text/plain": [
       "<Figure size 720x432 with 1 Axes>"
      ]
     },
     "metadata": {
      "needs_background": "light"
     },
     "output_type": "display_data"
    },
    {
     "name": "stdout",
     "output_type": "stream",
     "text": [
      "eu: 300; 115814\n"
     ]
    },
    {
     "data": {
      "image/png": "[encoded data removed]",
      "text/plain": [
       "<Figure size 720x432 with 1 Axes>"
      ]
     },
     "metadata": {
      "needs_background": "light"
     },
     "output_type": "display_data"
    },
    {
     "name": "stdout",
     "output_type": "stream",
     "text": [
      "fy: 22; 3936\n"
     ]
    },
    {
     "data": {
      "image/png": "[encoded data removed]",
      "text/plain": [
       "<Figure size 720x432 with 1 Axes>"
      ]
     },
     "metadata": {
      "needs_background": "light"
     },
     "output_type": "display_data"
    },
    {
     "name": "stdout",
     "output_type": "stream",
     "text": [
      "id: 47; 11304\n"
     ]
    },
    {
     "data": {
      "image/png": "[encoded data removed]",
      "text/plain": [
       "<Figure size 720x432 with 1 Axes>"
      ]
     },
     "metadata": {
      "needs_background": "light"
     },
     "output_type": "display_data"
    },
    {
     "name": "stdout",
     "output_type": "stream",
     "text": [
      "it: 300; 125780\n"
     ]
    },
    {
     "data": {
      "image/png": "[encoded data removed]",
      "text/plain": [
       "<Figure size 720x432 with 1 Axes>"
      ]
     },
     "metadata": {
      "needs_background": "light"
     },
     "output_type": "display_data"
    },
    {
     "name": "stdout",
     "output_type": "stream",
     "text": [
      "ky: 42; 8421\n"
     ]
    },
    {
     "data": {
      "image/png": "[encoded data removed]",
      "text/plain": [
       "<Figure size 720x432 with 1 Axes>"
      ]
     },
     "metadata": {
      "needs_background": "light"
     },
     "output_type": "display_data"
    },
    {
     "name": "stdout",
     "output_type": "stream",
     "text": [
      "lt: 14; 2864\n"
     ]
    },
    {
     "data": {
      "image/png": "[encoded data removed]",
      "text/plain": [
       "<Figure size 720x432 with 1 Axes>"
      ]
     },
     "metadata": {
      "needs_background": "light"
     },
     "output_type": "display_data"
    },
    {
     "name": "stdout",
     "output_type": "stream",
     "text": [
      "mt: 30; 5064\n"
     ]
    },
    {
     "data": {
      "image/png": "[encoded data removed]",
      "text/plain": [
       "<Figure size 720x432 with 1 Axes>"
      ]
     },
     "metadata": {
      "needs_background": "light"
     },
     "output_type": "display_data"
    },
    {
     "name": "stdout",
     "output_type": "stream",
     "text": [
      "nl: 222; 55445\n"
     ]
    },
    {
     "data": {
      "image/png": "[encoded data removed]",
      "text/plain": [
       "<Figure size 720x432 with 1 Axes>"
      ]
     },
     "metadata": {
      "needs_background": "light"
     },
     "output_type": "display_data"
    },
    {
     "name": "stdout",
     "output_type": "stream",
     "text": [
      "pl: 300; 98305\n"
     ]
    },
    {
     "data": {
      "image/png": "[encoded data removed]",
      "text/plain": [
       "<Figure size 720x432 with 1 Axes>"
      ]
     },
     "metadata": {
      "needs_background": "light"
     },
     "output_type": "display_data"
    },
    {
     "name": "stdout",
     "output_type": "stream",
     "text": [
      "pt: 266; 66015\n"
     ]
    },
    {
     "data": {
      "image/png": "[encoded data removed]",
      "text/plain": [
       "<Figure size 720x432 with 1 Axes>"
      ]
     },
     "metadata": {
      "needs_background": "light"
     },
     "output_type": "display_data"
    },
    {
     "name": "stdout",
     "output_type": "stream",
     "text": [
      "ro: 19; 4496\n"
     ]
    },
    {
     "data": {
      "image/png": "[encoded data removed]",
      "text/plain": [
       "<Figure size 720x432 with 1 Axes>"
      ]
     },
     "metadata": {
      "needs_background": "light"
     },
     "output_type": "display_data"
    },
    {
     "name": "stdout",
     "output_type": "stream",
     "text": [
      "ru: 300; 130305\n"
     ]
    },
    {
     "data": {
      "image/png": "[encoded data removed]",
      "text/plain": [
       "<Figure size 720x432 with 1 Axes>"
      ]
     },
     "metadata": {
      "needs_background": "light"
     },
     "output_type": "display_data"
    },
    {
     "name": "stdout",
     "output_type": "stream",
     "text": [
      "sv: 24; 5116\n"
     ]
    },
    {
     "data": {
      "image/png": "[encoded data removed]",
      "text/plain": [
       "<Figure size 720x432 with 1 Axes>"
      ]
     },
     "metadata": {
      "needs_background": "light"
     },
     "output_type": "display_data"
    },
    {
     "name": "stdout",
     "output_type": "stream",
     "text": [
      "tr: 98; 19413\n"
     ]
    },
    {
     "data": {
      "image/png": "[encoded data removed]",
      "text/plain": [
       "<Figure size 720x432 with 1 Axes>"
      ]
     },
     "metadata": {
      "needs_background": "light"
     },
     "output_type": "display_data"
    },
    {
     "name": "stdout",
     "output_type": "stream",
     "text": [
      "tt: 119; 26218\n"
     ]
    },
    {
     "data": {
      "image/png": "[encoded data removed]",
      "text/plain": [
       "<Figure size 720x432 with 1 Axes>"
      ]
     },
     "metadata": {
      "needs_background": "light"
     },
     "output_type": "display_data"
    },
    {
     "name": "stdout",
     "output_type": "stream",
     "text": [
      "uk: 45; 7669\n"
     ]
    },
    {
     "data": {
      "image/png": "[encoded data removed]",
      "text/plain": [
       "<Figure size 720x432 with 1 Axes>"
      ]
     },
     "metadata": {
      "needs_background": "light"
     },
     "output_type": "display_data"
    }
   ],
   "source": [
    "sums = []\n",
    "lens = []\n",
    "for language in languages:\n",
    "    counts = df[df['language'] == language]['label'].value_counts().values\n",
    "    print(f'{language}: {len(counts)}; {sum(counts)}')\n",
    "    sums.append(sum(counts))\n",
    "    lens.append(len(counts))\n",
    "    plt.figure(figsize=(10, 6))\n",
    "    plt.hist(counts)\n",
    "    plt.title(language)\n",
    "    plt.show()"
   ]
  },
  {
   "cell_type": "code",
   "execution_count": null,
   "id": "fe63f376",
   "metadata": {},
   "outputs": [],
   "source": [
    "\n",
    "plt.figure(figsize=(10, 6))\n",
    "plt.bar(languages, sums)\n",
    "plt.show()\n",
    "\n",
    "plt.figure(figsize=(10, 6))\n",
    "plt.bar(languages, lens)\n",
    "plt.show()"
   ]
  },
  {
   "cell_type": "code",
   "execution_count": null,
   "id": "c2a153c9",
   "metadata": {},
   "outputs": [],
   "source": [
    "lower_bound = 100\n",
    "upper_bound = 1000000\n",
    "big_sum = 0\n",
    "big_val_sum = 0\n",
    "for language in languages:\n",
    "    count = 0\n",
    "    sum_ = 0\n",
    "    val_sum = 0\n",
    "    for x, y, z in stats_dict[language]:\n",
    "        if y >= lower_bound:\n",
    "            count += 1\n",
    "            sum_ += min(upper_bound, y)\n",
    "            val_sum += z\n",
    "    big_sum += sum_\n",
    "    big_val_sum += val_sum\n",
    "    print(f'{language}: {count}; {sum_}; {val_sum}')\n",
    "print(big_sum)\n",
    "print(big_val_sum)"
   ]
  },
  {
   "cell_type": "code",
   "execution_count": 5,
   "id": "c315791e",
   "metadata": {},
   "outputs": [
    {
     "data": {
      "text/html": [
       "<div>\n",
       "<style scoped>\n",
       "    .dataframe tbody tr th:only-of-type {\n",
       "        vertical-align: middle;\n",
       "    }\n",
       "\n",
       "    .dataframe tbody tr th {\n",
       "        vertical-align: top;\n",
       "    }\n",
       "\n",
       "    .dataframe thead th {\n",
       "        text-align: right;\n",
       "    }\n",
       "</style>\n",
       "<table border=\"1\" class=\"dataframe\">\n",
       "  <thead>\n",
       "    <tr style=\"text-align: right;\">\n",
       "      <th></th>\n",
       "      <th>Unnamed: 0</th>\n",
       "      <th>index</th>\n",
       "      <th>mode</th>\n",
       "      <th>label</th>\n",
       "      <th>path</th>\n",
       "    </tr>\n",
       "  </thead>\n",
       "  <tbody>\n",
       "    <tr>\n",
       "      <th>0</th>\n",
       "      <td>1021263</td>\n",
       "      <td>99550</td>\n",
       "      <td>val</td>\n",
       "      <td>seja</td>\n",
       "      <td>pt/clips/seja/common_voice_pt_21816860.wav</td>\n",
       "    </tr>\n",
       "    <tr>\n",
       "      <th>1</th>\n",
       "      <td>1270993</td>\n",
       "      <td>20909</td>\n",
       "      <td>train</td>\n",
       "      <td>белән</td>\n",
       "      <td>tt/clips/белән/common_voice_tt_17782392.wav</td>\n",
       "    </tr>\n",
       "    <tr>\n",
       "      <th>2</th>\n",
       "      <td>1017852</td>\n",
       "      <td>96139</td>\n",
       "      <td>train</td>\n",
       "      <td>seus</td>\n",
       "      <td>pt/clips/seus/common_voice_pt_20120252.wav</td>\n",
       "    </tr>\n",
       "    <tr>\n",
       "      <th>3</th>\n",
       "      <td>863828</td>\n",
       "      <td>99975</td>\n",
       "      <td>train</td>\n",
       "      <td>się</td>\n",
       "      <td>pl/clips/się/common_voice_pl_20705736.wav</td>\n",
       "    </tr>\n",
       "    <tr>\n",
       "      <th>4</th>\n",
       "      <td>374719</td>\n",
       "      <td>13443</td>\n",
       "      <td>train</td>\n",
       "      <td>hiele</td>\n",
       "      <td>fy/clips/hiele/common_voice_fy-NL_21411746.wav</td>\n",
       "    </tr>\n",
       "  </tbody>\n",
       "</table>\n",
       "</div>"
      ],
      "text/plain": [
       "   Unnamed: 0  index   mode  label  \\\n",
       "0     1021263  99550    val   seja   \n",
       "1     1270993  20909  train  белән   \n",
       "2     1017852  96139  train   seus   \n",
       "3      863828  99975  train    się   \n",
       "4      374719  13443  train  hiele   \n",
       "\n",
       "                                             path  \n",
       "0      pt/clips/seja/common_voice_pt_21816860.wav  \n",
       "1     tt/clips/белән/common_voice_tt_17782392.wav  \n",
       "2      pt/clips/seus/common_voice_pt_20120252.wav  \n",
       "3       pl/clips/się/common_voice_pl_20705736.wav  \n",
       "4  fy/clips/hiele/common_voice_fy-NL_21411746.wav  "
      ]
     },
     "execution_count": 5,
     "metadata": {},
     "output_type": "execute_result"
    }
   ],
   "source": [
    "data = pd.read_csv('~/Desktop/coursework/new_data/csv/_all_top_200.csv', delimiter=',')\n",
    "data.head()"
   ]
  },
  {
   "cell_type": "code",
   "execution_count": null,
   "id": "92693f5d",
   "metadata": {},
   "outputs": [],
   "source": []
  },
  {
   "cell_type": "code",
   "execution_count": 19,
   "id": "dc7afbda",
   "metadata": {},
   "outputs": [
    {
     "name": "stdout",
     "output_type": "stream",
     "text": [
      "Index(['się', 'nie', 'eta', 'een', 'het', 'estas', 'per', 'che', 'kaj', 'del',\n",
      "       ...\n",
      "       'pateko', 'kiekis', 'užima', 'vyrauja', 'įrengtas', 'kalbos',\n",
      "       'pradžios', 'seniausių', 'imperijos', 'visoje'],\n",
      "      dtype='object', length=4017) [17790 15543 12906 ...     4     4     4]\n"
     ]
    }
   ],
   "source": [
    "stats = data['label'].value_counts()\n",
    "for label, counts in zip(list(stats.index), list(stats.counts))\n",
    "    if counts > 200:\n",
    "        "
   ]
  },
  {
   "cell_type": "code",
   "execution_count": 24,
   "id": "d98c9d38",
   "metadata": {},
   "outputs": [
    {
     "name": "stdout",
     "output_type": "stream",
     "text": [
      "się          17790\n",
      "nie          15543\n",
      "eta          12906\n",
      "een          10535\n",
      "het          10068\n",
      "             ...  \n",
      "kalbos           4\n",
      "pradžios         4\n",
      "seniausių        4\n",
      "imperijos        4\n",
      "visoje           4\n",
      "Name: label, Length: 4017, dtype: int64\n",
      "4017\n",
      "[17790, 15543, 12906, 10535, 10068, 9915, 9469, 8586, 8406, 7569, 6953, 6834, 6694, 6581, 6236, 5945, 5572, 5425, 5159, 4791, 4445, 4412, 4338, 4277, 4153, 4125, 4123, 4123, 3970, 3900, 3874, 3815, 3815, 3793, 3745, 3744, 3570, 3521, 3443, 3317, 3316, 3314, 3224, 3147, 3007, 2964, 2958, 2918, 2880, 2809, 2795, 2767, 2762, 2760, 2741, 2710, 2683, 2666, 2612, 2587, 2494, 2492, 2482, 2448, 2316, 2310, 2285, 2261, 2258, 2220, 2173, 2166, 2154, 2150, 2140, 2070, 2033, 2032, 2010, 2003, 1999, 1987, 1979, 1976, 1940, 1931, 1893, 1854, 1821, 1795, 1792, 1791, 1787, 1768, 1757, 1751, 1750, 1742, 1739, 1738, 1724, 1722, 1722, 1702, 1693, 1690, 1686, 1678, 1673, 1660, 1657, 1649, 1644, 1633, 1633, 1617, 1615, 1606, 1597, 1588, 1588, 1576, 1571, 1557, 1552, 1539, 1535, 1530, 1507, 1507, 1504, 1483, 1479, 1466, 1459, 1446, 1435, 1429, 1426, 1418, 1409, 1407, 1391, 1370, 1363, 1355, 1351, 1349, 1347, 1338, 1338, 1337, 1333, 1324, 1307, 1304, 1298, 1298, 1297, 1291, 1282, 1280, 1279, 1275, 1274, 1271, 1271, 1270, 1265, 1259, 1256, 1255, 1254, 1246, 1245, 1242, 1230, 1226, 1225, 1223, 1218, 1217, 1217, 1216, 1216, 1215, 1206, 1206, 1195, 1191, 1187, 1186, 1183, 1174, 1172, 1171, 1167, 1163, 1157, 1153, 1148, 1146, 1145, 1143, 1142, 1137, 1135, 1127, 1124, 1124, 1123, 1105, 1103, 1101, 1096, 1089, 1089, 1086, 1078, 1077, 1076, 1076, 1069, 1069, 1058, 1054, 1050, 1049, 1042, 1040, 1037, 1035, 1032, 1025, 1020, 1019, 1004, 1003, 1000, 993, 990, 989, 979, 973, 966, 963, 961, 958, 955, 953, 949, 939, 939, 938, 936, 934, 930, 928, 926, 925, 921, 919, 912, 910, 909, 909, 908, 903, 900, 899, 897, 894, 893, 889, 886, 885, 883, 881, 877, 877, 873, 868, 866, 866, 864, 863, 862, 862, 860, 859, 858, 857, 856, 856, 853, 852, 851, 850, 850, 850]\n",
      "[25, 25, 25, 25, 25, 25, 25, 25, 25, 25, 25, 25, 24, 24, 24, 24, 24, 24, 24, 24, 24, 24, 24, 24, 24, 24, 24, 23, 23, 23, 23, 23, 23, 23, 23, 23, 23, 23, 23, 23, 23, 23, 23, 23, 23, 23, 23, 22, 22, 22, 22, 22, 22, 22, 22, 22, 22, 22, 22, 22, 22, 21, 21, 21, 21, 21, 21, 21, 21, 21, 21, 21, 21, 21, 21, 21, 21, 21, 20, 20, 20, 20, 20, 20, 20, 20, 20, 20, 20, 20, 20, 20, 19, 19, 19, 19, 19, 18, 18, 18, 18, 18, 18, 18, 18, 18, 18, 18, 18, 18, 18, 18, 18, 18, 18, 18, 17, 17, 17, 17, 14, 14, 13, 13, 13, 13, 13, 13, 13, 12, 12, 12, 12, 12, 12, 12, 11, 11, 11, 11, 11, 10, 10, 10, 10, 10, 10, 10, 10, 9, 9, 9, 9, 9, 9, 9, 8, 8, 8, 8, 8, 8, 8, 8, 8, 8, 8, 8, 8, 7, 7, 7, 7, 7, 7, 7, 7, 7, 7, 7, 7, 7, 7, 6, 6, 6, 6, 6, 6, 6, 6, 6, 6, 6, 6, 6, 6, 6, 6, 6, 6, 6, 6, 6, 6, 6, 5, 5, 5, 5, 5, 5, 5, 5, 5, 5, 5, 5, 5, 5, 5, 5, 5, 5, 5, 5, 5, 5, 5, 5, 5, 5, 5, 5, 5, 5, 5, 5, 5, 5, 5, 5, 5, 5, 5, 5, 5, 5, 5, 5, 5, 5, 5, 5, 5, 4, 4, 4, 4, 4, 4, 4, 4, 4, 4, 4, 4, 4, 4, 4, 4, 4, 4, 4, 4, 4, 4, 4, 4, 4, 4, 4, 4, 4, 4, 4, 4, 4, 4, 4, 4, 4, 4, 4, 4, 4, 4, 4, 4, 4]\n"
     ]
    },
    {
     "data": {
      "image/png": "[encoded data removed]",
      "text/plain": [
       "<Figure size 1440x1440 with 1 Axes>"
      ]
     },
     "metadata": {
      "needs_background": "light"
     },
     "output_type": "display_data"
    }
   ],
   "source": [
    "stats = data['label'].value_counts()\n",
    "print(stats)\n",
    "print(len(stats))\n",
    "print(list(stats)[:300])\n",
    "print(list(stats)[-300:])\n",
    "plt.figure(figsize=(20, 20))\n",
    "plt.hist(list(stats)[1000:], bins=100)\n",
    "plt.show()"
   ]
  },
  {
   "cell_type": "code",
   "execution_count": null,
   "id": "196f9159",
   "metadata": {},
   "outputs": [],
   "source": []
  }
 ],
 "metadata": {
  "kernelspec": {
   "display_name": "Python 3 (ipykernel)",
   "language": "python",
   "name": "python3"
  },
  "language_info": {
   "codemirror_mode": {
    "name": "ipython",
    "version": 3
   },
   "file_extension": ".py",
   "mimetype": "text/x-python",
   "name": "python",
   "nbconvert_exporter": "python",
   "pygments_lexer": "ipython3",
   "version": "3.8.10"
  }
 },
 "nbformat": 4,
 "nbformat_minor": 5
}
