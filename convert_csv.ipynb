{
 "cells": [
  {
   "cell_type": "code",
   "execution_count": 1,
   "id": "fcde034d",
   "metadata": {},
   "outputs": [],
   "source": [
    "import pandas as pd\n",
    "import os"
   ]
  },
  {
   "cell_type": "code",
   "execution_count": 2,
   "id": "1cf8ac55",
   "metadata": {},
   "outputs": [
    {
     "name": "stdout",
     "output_type": "stream",
     "text": [
      "/home/vkuzia/Desktop/coursework/multilingual_spotting\r\n"
     ]
    }
   ],
   "source": [
    "!pwd"
   ]
  },
  {
   "cell_type": "code",
   "execution_count": 9,
   "id": "55f38ba1",
   "metadata": {},
   "outputs": [
    {
     "data": {
      "text/html": [
       "<div>\n",
       "<style scoped>\n",
       "    .dataframe tbody tr th:only-of-type {\n",
       "        vertical-align: middle;\n",
       "    }\n",
       "\n",
       "    .dataframe tbody tr th {\n",
       "        vertical-align: top;\n",
       "    }\n",
       "\n",
       "    .dataframe thead th {\n",
       "        text-align: right;\n",
       "    }\n",
       "</style>\n",
       "<table border=\"1\" class=\"dataframe\">\n",
       "  <thead>\n",
       "    <tr style=\"text-align: right;\">\n",
       "      <th></th>\n",
       "      <th>mode</th>\n",
       "      <th>label</th>\n",
       "      <th>path</th>\n",
       "    </tr>\n",
       "  </thead>\n",
       "  <tbody>\n",
       "    <tr>\n",
       "      <th>81624</th>\n",
       "      <td>train</td>\n",
       "      <td>посол</td>\n",
       "      <td>ru/clips_tensors_1/посол/common_voice_ru_21544...</td>\n",
       "    </tr>\n",
       "    <tr>\n",
       "      <th>107753</th>\n",
       "      <td>train</td>\n",
       "      <td>стран</td>\n",
       "      <td>ru/clips_tensors_1/стран/common_voice_ru_20957...</td>\n",
       "    </tr>\n",
       "    <tr>\n",
       "      <th>76240</th>\n",
       "      <td>val</td>\n",
       "      <td>оружия</td>\n",
       "      <td>ru/clips_tensors_1/оружия/common_voice_ru_1905...</td>\n",
       "    </tr>\n",
       "    <tr>\n",
       "      <th>77775</th>\n",
       "      <td>train</td>\n",
       "      <td>очень</td>\n",
       "      <td>ru/clips_tensors_1/очень/common_voice_ru_18934...</td>\n",
       "    </tr>\n",
       "    <tr>\n",
       "      <th>52520</th>\n",
       "      <td>train</td>\n",
       "      <td>меня</td>\n",
       "      <td>ru/clips_tensors_1/меня/common_voice_ru_188643...</td>\n",
       "    </tr>\n",
       "    <tr>\n",
       "      <th>64260</th>\n",
       "      <td>train</td>\n",
       "      <td>наши</td>\n",
       "      <td>ru/clips_tensors_1/наши/common_voice_ru_189205...</td>\n",
       "    </tr>\n",
       "    <tr>\n",
       "      <th>115645</th>\n",
       "      <td>train</td>\n",
       "      <td>того</td>\n",
       "      <td>ru/clips_tensors_1/того/common_voice_ru_208782...</td>\n",
       "    </tr>\n",
       "    <tr>\n",
       "      <th>93746</th>\n",
       "      <td>train</td>\n",
       "      <td>разоружению</td>\n",
       "      <td>ru/clips_tensors_1/разоружению/common_voice_ru...</td>\n",
       "    </tr>\n",
       "    <tr>\n",
       "      <th>27710</th>\n",
       "      <td>train</td>\n",
       "      <td>для</td>\n",
       "      <td>ru/clips_tensors_1/для/common_voice_ru_2059519...</td>\n",
       "    </tr>\n",
       "    <tr>\n",
       "      <th>2712</th>\n",
       "      <td>train</td>\n",
       "      <td>безопасности</td>\n",
       "      <td>ru/clips_tensors_1/безопасности/common_voice_r...</td>\n",
       "    </tr>\n",
       "    <tr>\n",
       "      <th>50785</th>\n",
       "      <td>train</td>\n",
       "      <td>людей</td>\n",
       "      <td>ru/clips_tensors_1/людей/common_voice_ru_18888...</td>\n",
       "    </tr>\n",
       "    <tr>\n",
       "      <th>78237</th>\n",
       "      <td>train</td>\n",
       "      <td>очень</td>\n",
       "      <td>ru/clips_tensors_1/очень/common_voice_ru_20991...</td>\n",
       "    </tr>\n",
       "    <tr>\n",
       "      <th>55891</th>\n",
       "      <td>train</td>\n",
       "      <td>мне</td>\n",
       "      <td>ru/clips_tensors_1/мне/common_voice_ru_1985774...</td>\n",
       "    </tr>\n",
       "    <tr>\n",
       "      <th>138793</th>\n",
       "      <td>train</td>\n",
       "      <td>это</td>\n",
       "      <td>ru/clips_tensors_1/это/common_voice_ru_2142585...</td>\n",
       "    </tr>\n",
       "    <tr>\n",
       "      <th>140762</th>\n",
       "      <td>train</td>\n",
       "      <td>этого</td>\n",
       "      <td>ru/clips_tensors_1/этого/common_voice_ru_21383...</td>\n",
       "    </tr>\n",
       "    <tr>\n",
       "      <th>82789</th>\n",
       "      <td>train</td>\n",
       "      <td>прав</td>\n",
       "      <td>ru/clips_tensors_1/прав/common_voice_ru_189044...</td>\n",
       "    </tr>\n",
       "    <tr>\n",
       "      <th>109825</th>\n",
       "      <td>train</td>\n",
       "      <td>так</td>\n",
       "      <td>ru/clips_tensors_1/так/common_voice_ru_2082634...</td>\n",
       "    </tr>\n",
       "    <tr>\n",
       "      <th>7228</th>\n",
       "      <td>train</td>\n",
       "      <td>будут</td>\n",
       "      <td>ru/clips_tensors_1/будут/common_voice_ru_21251...</td>\n",
       "    </tr>\n",
       "    <tr>\n",
       "      <th>107404</th>\n",
       "      <td>train</td>\n",
       "      <td>стран</td>\n",
       "      <td>ru/clips_tensors_1/стран/common_voice_ru_18924...</td>\n",
       "    </tr>\n",
       "    <tr>\n",
       "      <th>19690</th>\n",
       "      <td>train</td>\n",
       "      <td>всех</td>\n",
       "      <td>ru/clips_tensors_1/всех/common_voice_ru_193367...</td>\n",
       "    </tr>\n",
       "  </tbody>\n",
       "</table>\n",
       "</div>"
      ],
      "text/plain": [
       "         mode         label                                               path\n",
       "81624   train         посол  ru/clips_tensors_1/посол/common_voice_ru_21544...\n",
       "107753  train         стран  ru/clips_tensors_1/стран/common_voice_ru_20957...\n",
       "76240     val        оружия  ru/clips_tensors_1/оружия/common_voice_ru_1905...\n",
       "77775   train         очень  ru/clips_tensors_1/очень/common_voice_ru_18934...\n",
       "52520   train          меня  ru/clips_tensors_1/меня/common_voice_ru_188643...\n",
       "64260   train          наши  ru/clips_tensors_1/наши/common_voice_ru_189205...\n",
       "115645  train          того  ru/clips_tensors_1/того/common_voice_ru_208782...\n",
       "93746   train   разоружению  ru/clips_tensors_1/разоружению/common_voice_ru...\n",
       "27710   train           для  ru/clips_tensors_1/для/common_voice_ru_2059519...\n",
       "2712    train  безопасности  ru/clips_tensors_1/безопасности/common_voice_r...\n",
       "50785   train         людей  ru/clips_tensors_1/людей/common_voice_ru_18888...\n",
       "78237   train         очень  ru/clips_tensors_1/очень/common_voice_ru_20991...\n",
       "55891   train           мне  ru/clips_tensors_1/мне/common_voice_ru_1985774...\n",
       "138793  train           это  ru/clips_tensors_1/это/common_voice_ru_2142585...\n",
       "140762  train         этого  ru/clips_tensors_1/этого/common_voice_ru_21383...\n",
       "82789   train          прав  ru/clips_tensors_1/прав/common_voice_ru_189044...\n",
       "109825  train           так  ru/clips_tensors_1/так/common_voice_ru_2082634...\n",
       "7228    train         будут  ru/clips_tensors_1/будут/common_voice_ru_21251...\n",
       "107404  train         стран  ru/clips_tensors_1/стран/common_voice_ru_18924...\n",
       "19690   train          всех  ru/clips_tensors_1/всех/common_voice_ru_193367..."
      ]
     },
     "execution_count": 9,
     "metadata": {},
     "output_type": "execute_result"
    }
   ],
   "source": [
    "\n",
    "data = pd.read_csv(\"./dataset/multilingual_spoken_words/wav/ru/ru_popular_200.csv\", delimiter=\",\")\n",
    "data = data.drop(columns=[data.columns[0]], axis=1)\n",
    "data['path'] = data['path'].apply(lambda x: os.path.join('ru', 'clips_tensors_1', x))\n",
    "data = data.sample(frac=1)\n",
    "data.head(20)"
   ]
  },
  {
   "cell_type": "code",
   "execution_count": 10,
   "id": "2fd50b9b",
   "metadata": {},
   "outputs": [
    {
     "name": "stdout",
     "output_type": "stream",
     "text": [
      "149417\n"
     ]
    }
   ],
   "source": [
    "print(len(data))"
   ]
  },
  {
   "cell_type": "code",
   "execution_count": 11,
   "id": "5a7a67f7",
   "metadata": {},
   "outputs": [],
   "source": [
    "data.to_csv(\"./dataset/multilingual_spoken_words/wav/ru/ru_popular_200_modified.csv\")"
   ]
  },
  {
   "cell_type": "code",
   "execution_count": null,
   "id": "47b9ed47",
   "metadata": {},
   "outputs": [],
   "source": []
  }
 ],
 "metadata": {
  "kernelspec": {
   "display_name": "Python 3 (ipykernel)",
   "language": "python",
   "name": "python3"
  },
  "language_info": {
   "codemirror_mode": {
    "name": "ipython",
    "version": 3
   },
   "file_extension": ".py",
   "mimetype": "text/x-python",
   "name": "python",
   "nbconvert_exporter": "python",
   "pygments_lexer": "ipython3",
   "version": "3.8.10"
  }
 },
 "nbformat": 4,
 "nbformat_minor": 5
}
